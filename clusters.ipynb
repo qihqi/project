{
 "cells": [
  {
   "cell_type": "code",
   "execution_count": 31,
   "metadata": {
    "collapsed": true
   },
   "outputs": [],
   "source": [
    "import scipy.io as si\n",
    "data = si.loadmat('./img_features.mat')"
   ]
  },
  {
   "cell_type": "code",
   "execution_count": 15,
   "metadata": {
    "collapsed": true
   },
   "outputs": [],
   "source": [
    "fc6 = data['fc6'][0]"
   ]
  },
  {
   "cell_type": "code",
   "execution_count": 16,
   "metadata": {
    "collapsed": true
   },
   "outputs": [],
   "source": [
    "import numpy as np\n",
    "fc6 = np.vstack(fc6)"
   ]
  },
  {
   "cell_type": "code",
   "execution_count": 17,
   "metadata": {},
   "outputs": [
    {
     "data": {
      "text/plain": [
       "(82783, 4096)"
      ]
     },
     "execution_count": 17,
     "metadata": {},
     "output_type": "execute_result"
    }
   ],
   "source": [
    "fc6.shape"
   ]
  },
  {
   "cell_type": "code",
   "execution_count": 4,
   "metadata": {},
   "outputs": [
    {
     "data": {
      "text/plain": [
       "KMeans(algorithm='auto', copy_x=True, init='k-means++', max_iter=300,\n",
       "    n_clusters=8, n_init=10, n_jobs=1, precompute_distances='auto',\n",
       "    random_state=None, tol=0.0001, verbose=0)"
      ]
     },
     "execution_count": 4,
     "metadata": {},
     "output_type": "execute_result"
    }
   ],
   "source": [
    "fc6.shape\n",
    "from sklearn.cluster import SpectralClustering, KMeans\n",
    "clustering = KMeans()\n",
    "clustering.fit(fc6)"
   ]
  },
  {
   "cell_type": "code",
   "execution_count": 13,
   "metadata": {
    "collapsed": true
   },
   "outputs": [],
   "source": [
    "import scipy.io\n",
    "scipy.io.savemat('centers.mat', {'center': clustering.cluster_centers_})"
   ]
  },
  {
   "cell_type": "markdown",
   "metadata": {},
   "source": [
    "fc6 = data['fc6'][0]# compute a dict of img_id to sentences"
   ]
  },
  {
   "cell_type": "code",
   "execution_count": 16,
   "metadata": {},
   "outputs": [
    {
     "data": {
      "text/plain": [
       "array([[  1.26194954e+02,   6.87981844e-02,   3.30231488e-01, ...,\n",
       "          4.55443048e+00,   3.24488115e+00,   4.97461110e-03],\n",
       "       [  4.02313118e+01,   3.27201366e+00,   4.93141949e-01, ...,\n",
       "          9.73281384e-01,   1.69202538e+01,   1.83474012e-02],\n",
       "       [  7.53506317e+01,   4.40948427e-01,   1.31477451e+00, ...,\n",
       "          1.48239803e+01,   6.35670185e-01,  -3.21492553e-06],\n",
       "       ..., \n",
       "       [  7.77536240e+01,   3.61490309e-01,   3.34758973e+00, ...,\n",
       "          7.08983803e+00,   1.43233776e-01,  -1.61305070e-06],\n",
       "       [  4.11525574e+01,   2.24000168e+00,   3.63679504e+00, ...,\n",
       "          5.84545994e+00,   7.86058426e-01,   5.38200885e-03],\n",
       "       [  1.34962921e+02,   6.52626753e-02,   5.84309042e-01, ...,\n",
       "          1.70255051e+01,   1.96749687e-01,   3.01748514e-07]], dtype=float32)"
      ]
     },
     "execution_count": 16,
     "metadata": {},
     "output_type": "execute_result"
    }
   ],
   "source": [
    "clustering.cluster_centers_"
   ]
  },
  {
   "cell_type": "markdown",
   "metadata": {},
   "source": [
    "# Preprocess \n",
    "\n",
    "Make image id maps to a list of items"
   ]
  },
  {
   "cell_type": "code",
   "execution_count": 3,
   "metadata": {
    "collapsed": true
   },
   "outputs": [],
   "source": [
    "with open('./data/annotations/captions_val2014.json') as f:\n",
    "    import json\n",
    "    anno = json.loads(f.read())"
   ]
  },
  {
   "cell_type": "code",
   "execution_count": 4,
   "metadata": {},
   "outputs": [
    {
     "data": {
      "text/plain": [
       "{u'coco_url': u'http://mscoco.org/images/391895',\n",
       " u'date_captured': u'2013-11-14 11:18:45',\n",
       " u'file_name': u'COCO_val2014_000000391895.jpg',\n",
       " u'flickr_url': u'http://farm9.staticflickr.com/8186/8119368305_4e622c8349_z.jpg',\n",
       " u'height': 360,\n",
       " u'id': 391895,\n",
       " u'license': 3,\n",
       " u'width': 640}"
      ]
     },
     "execution_count": 4,
     "metadata": {},
     "output_type": "execute_result"
    }
   ],
   "source": [
    "anno['images'][0]"
   ]
  },
  {
   "cell_type": "code",
   "execution_count": 5,
   "metadata": {},
   "outputs": [
    {
     "name": "stdout",
     "output_type": "stream",
     "text": [
      "40504\n"
     ]
    }
   ],
   "source": [
    " # image id -> feature id, filename, caption list\n",
    "    \n",
    "image_data = {}\n",
    "for caption in anno['annotations']:\n",
    "    imgid = caption['image_id']\n",
    "    if imgid in image_data:\n",
    "        image_data[imgid]['caption'].append(caption['caption'])\n",
    "    else:\n",
    "        image_data[imgid] = {\n",
    "            'caption': [caption['caption']]\n",
    "        }\n",
    "\n",
    "print len(image_data)"
   ]
  },
  {
   "cell_type": "code",
   "execution_count": 6,
   "metadata": {
    "collapsed": true
   },
   "outputs": [],
   "source": [
    "filename_ordered = [im['file_name'] for im in anno['images']]"
   ]
  },
  {
   "cell_type": "code",
   "execution_count": 7,
   "metadata": {
    "collapsed": true
   },
   "outputs": [],
   "source": [
    "filename_map = {f: i for i, f in enumerate(filename_ordered)}"
   ]
  },
  {
   "cell_type": "code",
   "execution_count": 8,
   "metadata": {
    "collapsed": true
   },
   "outputs": [],
   "source": [
    "for i in anno['images']:\n",
    "    image_data[i['id']]['filename'] = i['file_name']\n",
    "    \n",
    "    image_data[i['id']]['fid'] = filename_map[i['file_name']]"
   ]
  },
  {
   "cell_type": "code",
   "execution_count": 9,
   "metadata": {
    "collapsed": true
   },
   "outputs": [],
   "source": [
    "with open('image_data_val.pickle', 'w') as pic:\n",
    "    import pickle\n",
    "    pickle.dump(image_data, pic)"
   ]
  }
 ],
 "metadata": {
  "kernelspec": {
   "display_name": "Python 2",
   "language": "python",
   "name": "python2"
  },
  "language_info": {
   "codemirror_mode": {
    "name": "ipython",
    "version": 2
   },
   "file_extension": ".py",
   "mimetype": "text/x-python",
   "name": "python",
   "nbconvert_exporter": "python",
   "pygments_lexer": "ipython2",
   "version": "2.7.12"
  }
 },
 "nbformat": 4,
 "nbformat_minor": 2
}
